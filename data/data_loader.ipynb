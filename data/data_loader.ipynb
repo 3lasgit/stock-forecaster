{
 "cells": [
  {
   "cell_type": "code",
   "execution_count": null,
   "metadata": {},
   "outputs": [],
   "source": [
    "import requests\n",
    "from pathlib import Path\n",
    "import pandas as pd "
   ]
  },
  {
   "cell_type": "code",
   "execution_count": null,
   "metadata": {},
   "outputs": [],
   "source": [
    "output_dir = Path(\"%pwd\").resolve().parent\n",
    "output_path = output_dir / \"hugging_face_data.json\""
   ]
  },
  {
   "cell_type": "code",
   "execution_count": null,
   "metadata": {},
   "outputs": [],
   "source": [
    "# URL de base\n",
    "base_url = \"https://datasets-server.huggingface.co/rows?dataset=Ammok/apple_stock_price_from_1980-2021&config=default&split=train\"\n",
    "\n",
    "# Preparing loop's parameters\n",
    "response = requests.get(base_url)\n",
    "data = response.json()\n",
    "total_line = data['num_rows_total'] # we could request directly num_rows with the hugg_face params size but with this way we economize the first loading\n",
    "df = pd.json_normalize(data['rows'])  # initialiser la transformation des data en csv\n",
    "\n",
    "q = total_line // 100\n",
    "r = total_line % 100\n",
    "n_iter = q if r==0 else q + 1\n",
    "\n",
    "# loading data sequentially\n",
    "for i in range(1,n_iter) :  # commence à 1 car on aura déjà fait au moins un request pour obtenir le total_line même s'il est nul\n",
    "    offset = i*100\n",
    "    api_url = f\"{base_url}&offset={offset}&length=100\"\n",
    "    # api_url = f\"https://datasets-server.huggingface.co/rows?dataset=Ammok/apple_stock_price_from_1980-2021&config=default&split=train&offset={offset}&length=100\"\n",
    "    response = requests.get(api_url)\n",
    "    data = response.json()\n",
    "    df = pd.concat([df,pd.json_normalize(data['rows'])], axis = 0, ignore_index = True)\n",
    "\n",
    "# sortie\n",
    "df.head(60)\n",
    "# data_csv = df.to_csv(output_path, index=False)"
   ]
  },
  {
   "cell_type": "code",
   "execution_count": null,
   "metadata": {},
   "outputs": [],
   "source": [
    "df.describe()"
   ]
  },
  {
   "cell_type": "code",
   "execution_count": null,
   "metadata": {},
   "outputs": [],
   "source": [
    "def load_with_for(api_url, output_path) :\n",
    "    # Preparing loop's parameters\n",
    "    response = requests.get(api_url)\n",
    "    data = response.json()\n",
    "    total_line = data['num_rows_total'] # we could request directly num_rows with the hugg_face params size but with this way we economize the first loading\n",
    "    df = pd.json_normalize(data['rows'])  # initialiser la transformation des data en csv\n",
    "    q = total_line // 100\n",
    "    r = total_line % 100\n",
    "    n_iter = q if r==0 else q + 1\n",
    "\n",
    "    # loading data sequentially\n",
    "    for i in range(1,n_iter) :  # commence à 1 car on aura déjà fait au moins un request pour obtenir le total_line même s'il est nul\n",
    "        offset = i*100\n",
    "        api_url = f'\"https://datasets-server.huggingface.co/rows?dataset=Ammok/apple_stock_price_from_1980-2021&config=default&split=train&offset={offset}&length=100\"'\n",
    "        response = requests.get(api_url)\n",
    "        data = response.json()\n",
    "        df = pd.concat({df,pd.json_normalize(data['rows'])}, axis = 1, ignore_index = True)\n",
    "\n",
    "    # sortie\n",
    "    data_csv = df.to_csv(output_path, index=False)  "
   ]
  },
  {
   "cell_type": "markdown",
   "metadata": {},
   "source": [
    "### old : Exporting data to json file"
   ]
  },
  {
   "cell_type": "code",
   "execution_count": null,
   "metadata": {},
   "outputs": [],
   "source": [
    "output_dir = Path(\"%pwd\").resolve().parent\n",
    "output_path = output_dir / \"hugging_face_data.json\""
   ]
  },
  {
   "cell_type": "code",
   "execution_count": null,
   "metadata": {},
   "outputs": [],
   "source": [
    "import requests\n",
    "import json\n",
    "from pathlib import Path\n",
    "\n",
    "# URL de l'API Hugging Face\n",
    "api_url = \"https://datasets-server.huggingface.co/rows?dataset=Ammok/apple_stock_price_from_1980-2021&config=default&split=train&offset=0&length=100\"\n",
    "\n",
    "# Exécuter la requête avec requests\n",
    "response = requests.get(api_url)\n",
    "\n",
    "# Vérifier si la requête a réussi (code 200)\n",
    "if response.status_code == 200:\n",
    "    # Charger les données JSON\n",
    "    data = response.json()\n",
    "\n",
    "    # Sauvegarder les données dans un fichier JSON (par exemple)\n",
    "    output_path = Path(__file__).resolve().parent / \"hugging_face_data.json\"\n",
    "    with open(\n",
    "        output_path, \"w\"\n",
    "    ) as f:  # with garantit la fermeture auto du fichier même en cas d'erreur\n",
    "        json.dump(data, f, indent=2)\n",
    "\n",
    "    print(f\"Données enregistrées avec succès dans {output_path}\")\n",
    "else:\n",
    "    print(f\"Échec de la requête. Code d'erreur : {response.status_code}\")"
   ]
  }
 ],
 "metadata": {
  "kernelspec": {
   "display_name": ".venv",
   "language": "python",
   "name": "python3"
  },
  "language_info": {
   "codemirror_mode": {
    "name": "ipython",
    "version": 3
   },
   "file_extension": ".py",
   "mimetype": "text/x-python",
   "name": "python",
   "nbconvert_exporter": "python",
   "pygments_lexer": "ipython3",
   "version": "3.11.6"
  }
 },
 "nbformat": 4,
 "nbformat_minor": 2
}
